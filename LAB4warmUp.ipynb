{
 "cells": [
  {
   "cell_type": "markdown",
   "metadata": {
    "id": "t7JOxuK9Jje2"
   },
   "source": [
    "# Laboratory exercise 4\n",
    "\n",
    "## Warm-Up Mode (2 points)\n",
    "\n",
    "**Task Description**  \n",
    "Using the given dataset, develop and implement **3** different neural networks to predict the **air quality level**. Each network should differ in the following ways:  \n",
    "\n",
    "- **layer configurations** - use different numbers and types of layers;\n",
    "- **activation functions** - try different activation functions;\n",
    "- **neurons per layer** - experiment with different numbers of neurons in each layer; and\n",
    "- **number of layers** - build networks with varying depths.\n",
    "\n",
    "After developing the models, evaluate and compare the performance of all **3** approaches.\n",
    "\n",
    "**About the Dataset**  \n",
    "This dataset focuses on air quality assessment across various regions. The dataset contains 5,000 samples and captures critical environmental and demographic factors that influence pollution levels.\n",
    "\n",
    "**Features**:  \n",
    "- **Temperature (°C)**: Average temperature of the region.  \n",
    "- **Humidity (%)**: Relative humidity recorded in the region.  \n",
    "- **PM2.5 Concentration (µg/m³)**: Levels of fine particulate matter.  \n",
    "- **PM10 Concentration (µg/m³)**: Levels of coarse particulate matter.  \n",
    "- **NO2 Concentration (ppb)**: Nitrogen dioxide levels.  \n",
    "- **SO2 Concentration (ppb)**: Sulfur dioxide levels.  \n",
    "- **CO Concentration (ppm)**: Carbon monoxide levels.  \n",
    "- **Proximity to Industrial Areas (km)**: Distance to the nearest industrial zone.  \n",
    "- **Population Density (people/km²)**: Number of people per square kilometer in the region.  \n",
    "\n",
    "**Target Variable**: **Air Quality**  \n",
    "- **Good**: Clean air with low pollution levels.  \n",
    "- **Moderate**: Acceptable air quality but with some pollutants present.  \n",
    "- **Poor**: Noticeable pollution that may cause health issues for sensitive groups.  \n",
    "- **Hazardous**: Highly polluted air posing serious health risks to the population.  "
   ]
  },
  {
   "cell_type": "code",
   "execution_count": 2,
   "metadata": {},
   "outputs": [
    {
     "ename": "ModuleNotFoundError",
     "evalue": "No module named 'keras'",
     "output_type": "error",
     "traceback": [
      "\u001b[1;31m---------------------------------------------------------------------------\u001b[0m",
      "\u001b[1;31mModuleNotFoundError\u001b[0m                       Traceback (most recent call last)",
      "Cell \u001b[1;32mIn[2], line 8\u001b[0m\n\u001b[0;32m      6\u001b[0m \u001b[38;5;28;01mfrom\u001b[39;00m \u001b[38;5;21;01msklearn\u001b[39;00m\u001b[38;5;21;01m.\u001b[39;00m\u001b[38;5;21;01mpreprocessing\u001b[39;00m \u001b[38;5;28;01mimport\u001b[39;00m MinMaxScaler\n\u001b[0;32m      7\u001b[0m \u001b[38;5;28;01mfrom\u001b[39;00m \u001b[38;5;21;01msklearn\u001b[39;00m\u001b[38;5;21;01m.\u001b[39;00m\u001b[38;5;21;01mmetrics\u001b[39;00m \u001b[38;5;28;01mimport\u001b[39;00m classification_report, confusion_matrix, r2_score\n\u001b[1;32m----> 8\u001b[0m \u001b[38;5;28;01mfrom\u001b[39;00m \u001b[38;5;21;01mkeras\u001b[39;00m\u001b[38;5;21;01m.\u001b[39;00m\u001b[38;5;21;01mmodels\u001b[39;00m \u001b[38;5;28;01mimport\u001b[39;00m Sequential\n\u001b[0;32m      9\u001b[0m \u001b[38;5;28;01mfrom\u001b[39;00m \u001b[38;5;21;01mkeras\u001b[39;00m\u001b[38;5;21;01m.\u001b[39;00m\u001b[38;5;21;01mlayers\u001b[39;00m \u001b[38;5;28;01mimport\u001b[39;00m Dense, Input, Dropout, LeakyReLU\n\u001b[0;32m     10\u001b[0m \u001b[38;5;28;01mfrom\u001b[39;00m \u001b[38;5;21;01mxgboost\u001b[39;00m \u001b[38;5;28;01mimport\u001b[39;00m XGBClassifier\n",
      "\u001b[1;31mModuleNotFoundError\u001b[0m: No module named 'keras'"
     ]
    }
   ],
   "source": [
    "import pandas as pd\n",
    "from sklearn.preprocessing import LabelEncoder\n",
    "import matplotlib.pyplot as plt\n",
    "import seaborn as sns\n",
    "from sklearn.model_selection import train_test_split\n",
    "from sklearn.preprocessing import MinMaxScaler\n",
    "from sklearn.metrics import classification_report, confusion_matrix, r2_score\n",
    "from keras.models import Sequential\n",
    "from keras.layers import Dense, Input, Dropout, LeakyReLU\n",
    "from xgboost import XGBClassifier\n",
    "from tensorflow.keras.optimizers import Adam"
   ]
  },
  {
   "cell_type": "code",
   "execution_count": 3,
   "metadata": {},
   "outputs": [
    {
     "name": "stdout",
     "output_type": "stream",
     "text": [
      "Collecting keras\n",
      "  Downloading keras-3.7.0-py3-none-any.whl.metadata (5.8 kB)\n",
      "Collecting absl-py (from keras)\n",
      "  Downloading absl_py-2.1.0-py3-none-any.whl.metadata (2.3 kB)\n",
      "Requirement already satisfied: numpy in c:\\users\\ilija\\anaconda3\\lib\\site-packages (from keras) (1.26.4)\n",
      "Requirement already satisfied: rich in c:\\users\\ilija\\anaconda3\\lib\\site-packages (from keras) (13.7.1)\n",
      "Collecting namex (from keras)\n",
      "  Downloading namex-0.0.8-py3-none-any.whl.metadata (246 bytes)\n",
      "Requirement already satisfied: h5py in c:\\users\\ilija\\anaconda3\\lib\\site-packages (from keras) (3.11.0)\n",
      "Collecting optree (from keras)\n",
      "  Downloading optree-0.13.1-cp312-cp312-win_amd64.whl.metadata (48 kB)\n",
      "Collecting ml-dtypes (from keras)\n",
      "  Downloading ml_dtypes-0.5.0-cp312-cp312-win_amd64.whl.metadata (22 kB)\n",
      "Requirement already satisfied: packaging in c:\\users\\ilija\\anaconda3\\lib\\site-packages (from keras) (24.1)\n",
      "Requirement already satisfied: typing-extensions>=4.5.0 in c:\\users\\ilija\\anaconda3\\lib\\site-packages (from optree->keras) (4.11.0)\n",
      "Requirement already satisfied: markdown-it-py>=2.2.0 in c:\\users\\ilija\\anaconda3\\lib\\site-packages (from rich->keras) (2.2.0)\n",
      "Requirement already satisfied: pygments<3.0.0,>=2.13.0 in c:\\users\\ilija\\anaconda3\\lib\\site-packages (from rich->keras) (2.15.1)\n",
      "Requirement already satisfied: mdurl~=0.1 in c:\\users\\ilija\\anaconda3\\lib\\site-packages (from markdown-it-py>=2.2.0->rich->keras) (0.1.0)\n",
      "Downloading keras-3.7.0-py3-none-any.whl (1.2 MB)\n",
      "   ---------------------------------------- 0.0/1.2 MB ? eta -:--:--\n",
      "   ---------------------------------------- 1.2/1.2 MB 10.3 MB/s eta 0:00:00\n",
      "Downloading absl_py-2.1.0-py3-none-any.whl (133 kB)\n",
      "Downloading ml_dtypes-0.5.0-cp312-cp312-win_amd64.whl (213 kB)\n",
      "Downloading namex-0.0.8-py3-none-any.whl (5.8 kB)\n",
      "Downloading optree-0.13.1-cp312-cp312-win_amd64.whl (292 kB)\n",
      "Installing collected packages: namex, optree, ml-dtypes, absl-py, keras\n",
      "Successfully installed absl-py-2.1.0 keras-3.7.0 ml-dtypes-0.5.0 namex-0.0.8 optree-0.13.1\n",
      "Collecting patchify\n",
      "  Downloading patchify-0.2.3-py3-none-any.whl.metadata (3.0 kB)\n",
      "Requirement already satisfied: numpy<2,>=1 in c:\\users\\ilija\\anaconda3\\lib\\site-packages (from patchify) (1.26.4)\n",
      "Downloading patchify-0.2.3-py3-none-any.whl (6.6 kB)\n",
      "Installing collected packages: patchify\n",
      "Successfully installed patchify-0.2.3\n",
      "Collecting segmentation_models\n",
      "  Downloading segmentation_models-1.0.1-py3-none-any.whl.metadata (938 bytes)\n",
      "Collecting keras-applications<=1.0.8,>=1.0.7 (from segmentation_models)\n",
      "  Downloading Keras_Applications-1.0.8-py3-none-any.whl.metadata (1.7 kB)\n",
      "Collecting image-classifiers==1.0.0 (from segmentation_models)\n",
      "  Downloading image_classifiers-1.0.0-py3-none-any.whl.metadata (8.6 kB)\n",
      "Collecting efficientnet==1.0.0 (from segmentation_models)\n",
      "  Downloading efficientnet-1.0.0-py3-none-any.whl.metadata (6.1 kB)\n",
      "Requirement already satisfied: scikit-image in c:\\users\\ilija\\anaconda3\\lib\\site-packages (from efficientnet==1.0.0->segmentation_models) (0.24.0)\n",
      "Requirement already satisfied: numpy>=1.9.1 in c:\\users\\ilija\\anaconda3\\lib\\site-packages (from keras-applications<=1.0.8,>=1.0.7->segmentation_models) (1.26.4)\n",
      "Requirement already satisfied: h5py in c:\\users\\ilija\\anaconda3\\lib\\site-packages (from keras-applications<=1.0.8,>=1.0.7->segmentation_models) (3.11.0)\n",
      "Requirement already satisfied: scipy>=1.9 in c:\\users\\ilija\\anaconda3\\lib\\site-packages (from scikit-image->efficientnet==1.0.0->segmentation_models) (1.13.1)\n",
      "Requirement already satisfied: networkx>=2.8 in c:\\users\\ilija\\anaconda3\\lib\\site-packages (from scikit-image->efficientnet==1.0.0->segmentation_models) (3.3)\n",
      "Requirement already satisfied: pillow>=9.1 in c:\\users\\ilija\\anaconda3\\lib\\site-packages (from scikit-image->efficientnet==1.0.0->segmentation_models) (10.4.0)\n",
      "Requirement already satisfied: imageio>=2.33 in c:\\users\\ilija\\anaconda3\\lib\\site-packages (from scikit-image->efficientnet==1.0.0->segmentation_models) (2.33.1)\n",
      "Requirement already satisfied: tifffile>=2022.8.12 in c:\\users\\ilija\\anaconda3\\lib\\site-packages (from scikit-image->efficientnet==1.0.0->segmentation_models) (2023.4.12)\n",
      "Requirement already satisfied: packaging>=21 in c:\\users\\ilija\\anaconda3\\lib\\site-packages (from scikit-image->efficientnet==1.0.0->segmentation_models) (24.1)\n",
      "Requirement already satisfied: lazy-loader>=0.4 in c:\\users\\ilija\\anaconda3\\lib\\site-packages (from scikit-image->efficientnet==1.0.0->segmentation_models) (0.4)\n",
      "Downloading segmentation_models-1.0.1-py3-none-any.whl (33 kB)\n",
      "Downloading efficientnet-1.0.0-py3-none-any.whl (17 kB)\n",
      "Downloading image_classifiers-1.0.0-py3-none-any.whl (19 kB)\n",
      "Downloading Keras_Applications-1.0.8-py3-none-any.whl (50 kB)\n",
      "Installing collected packages: keras-applications, image-classifiers, efficientnet, segmentation_models\n",
      "Successfully installed efficientnet-1.0.0 image-classifiers-1.0.0 keras-applications-1.0.8 segmentation_models-1.0.1\n"
     ]
    },
    {
     "name": "stderr",
     "output_type": "stream",
     "text": [
      "ERROR: Invalid requirement: '==': Expected package name at the start of dependency specifier\n",
      "    ==\n",
      "    ^\n"
     ]
    }
   ],
   "source": [
    "!pip install keras\n",
    "\n",
    "!pip install patchify    \n",
    "!pip install segmentation_models\n",
    "!pip install tensorflow == 2.15.0"
   ]
  },
  {
   "cell_type": "code",
   "execution_count": 4,
   "metadata": {},
   "outputs": [
    {
     "data": {
      "text/html": [
       "<div>\n",
       "<style scoped>\n",
       "    .dataframe tbody tr th:only-of-type {\n",
       "        vertical-align: middle;\n",
       "    }\n",
       "\n",
       "    .dataframe tbody tr th {\n",
       "        vertical-align: top;\n",
       "    }\n",
       "\n",
       "    .dataframe thead th {\n",
       "        text-align: right;\n",
       "    }\n",
       "</style>\n",
       "<table border=\"1\" class=\"dataframe\">\n",
       "  <thead>\n",
       "    <tr style=\"text-align: right;\">\n",
       "      <th></th>\n",
       "      <th>Temperature</th>\n",
       "      <th>Humidity</th>\n",
       "      <th>PM2.5</th>\n",
       "      <th>PM10</th>\n",
       "      <th>NO2</th>\n",
       "      <th>SO2</th>\n",
       "      <th>CO</th>\n",
       "      <th>Proximity_to_Industrial_Areas</th>\n",
       "      <th>Population_Density</th>\n",
       "      <th>Air Quality</th>\n",
       "    </tr>\n",
       "  </thead>\n",
       "  <tbody>\n",
       "    <tr>\n",
       "      <th>0</th>\n",
       "      <td>29.8</td>\n",
       "      <td>59.1</td>\n",
       "      <td>5.2</td>\n",
       "      <td>17.9</td>\n",
       "      <td>18.9</td>\n",
       "      <td>9.2</td>\n",
       "      <td>1.72</td>\n",
       "      <td>6.3</td>\n",
       "      <td>319</td>\n",
       "      <td>Moderate</td>\n",
       "    </tr>\n",
       "    <tr>\n",
       "      <th>1</th>\n",
       "      <td>28.3</td>\n",
       "      <td>75.6</td>\n",
       "      <td>2.3</td>\n",
       "      <td>12.2</td>\n",
       "      <td>30.8</td>\n",
       "      <td>9.7</td>\n",
       "      <td>1.64</td>\n",
       "      <td>6.0</td>\n",
       "      <td>611</td>\n",
       "      <td>Moderate</td>\n",
       "    </tr>\n",
       "    <tr>\n",
       "      <th>2</th>\n",
       "      <td>23.1</td>\n",
       "      <td>74.7</td>\n",
       "      <td>26.7</td>\n",
       "      <td>33.8</td>\n",
       "      <td>24.4</td>\n",
       "      <td>12.6</td>\n",
       "      <td>1.63</td>\n",
       "      <td>5.2</td>\n",
       "      <td>619</td>\n",
       "      <td>Moderate</td>\n",
       "    </tr>\n",
       "    <tr>\n",
       "      <th>3</th>\n",
       "      <td>27.1</td>\n",
       "      <td>39.1</td>\n",
       "      <td>6.1</td>\n",
       "      <td>6.3</td>\n",
       "      <td>13.5</td>\n",
       "      <td>5.3</td>\n",
       "      <td>1.15</td>\n",
       "      <td>11.1</td>\n",
       "      <td>551</td>\n",
       "      <td>Good</td>\n",
       "    </tr>\n",
       "    <tr>\n",
       "      <th>4</th>\n",
       "      <td>26.5</td>\n",
       "      <td>70.7</td>\n",
       "      <td>6.9</td>\n",
       "      <td>16.0</td>\n",
       "      <td>21.9</td>\n",
       "      <td>5.6</td>\n",
       "      <td>1.01</td>\n",
       "      <td>12.7</td>\n",
       "      <td>303</td>\n",
       "      <td>Good</td>\n",
       "    </tr>\n",
       "    <tr>\n",
       "      <th>...</th>\n",
       "      <td>...</td>\n",
       "      <td>...</td>\n",
       "      <td>...</td>\n",
       "      <td>...</td>\n",
       "      <td>...</td>\n",
       "      <td>...</td>\n",
       "      <td>...</td>\n",
       "      <td>...</td>\n",
       "      <td>...</td>\n",
       "      <td>...</td>\n",
       "    </tr>\n",
       "    <tr>\n",
       "      <th>4995</th>\n",
       "      <td>40.6</td>\n",
       "      <td>74.1</td>\n",
       "      <td>116.0</td>\n",
       "      <td>126.7</td>\n",
       "      <td>45.5</td>\n",
       "      <td>25.7</td>\n",
       "      <td>2.11</td>\n",
       "      <td>2.8</td>\n",
       "      <td>765</td>\n",
       "      <td>Hazardous</td>\n",
       "    </tr>\n",
       "    <tr>\n",
       "      <th>4996</th>\n",
       "      <td>28.1</td>\n",
       "      <td>96.9</td>\n",
       "      <td>6.9</td>\n",
       "      <td>25.0</td>\n",
       "      <td>25.3</td>\n",
       "      <td>10.8</td>\n",
       "      <td>1.54</td>\n",
       "      <td>5.7</td>\n",
       "      <td>709</td>\n",
       "      <td>Moderate</td>\n",
       "    </tr>\n",
       "    <tr>\n",
       "      <th>4997</th>\n",
       "      <td>25.9</td>\n",
       "      <td>78.2</td>\n",
       "      <td>14.2</td>\n",
       "      <td>22.1</td>\n",
       "      <td>34.8</td>\n",
       "      <td>7.8</td>\n",
       "      <td>1.63</td>\n",
       "      <td>9.6</td>\n",
       "      <td>379</td>\n",
       "      <td>Moderate</td>\n",
       "    </tr>\n",
       "    <tr>\n",
       "      <th>4998</th>\n",
       "      <td>25.3</td>\n",
       "      <td>44.4</td>\n",
       "      <td>21.4</td>\n",
       "      <td>29.0</td>\n",
       "      <td>23.7</td>\n",
       "      <td>5.7</td>\n",
       "      <td>0.89</td>\n",
       "      <td>11.6</td>\n",
       "      <td>241</td>\n",
       "      <td>Good</td>\n",
       "    </tr>\n",
       "    <tr>\n",
       "      <th>4999</th>\n",
       "      <td>24.1</td>\n",
       "      <td>77.9</td>\n",
       "      <td>81.7</td>\n",
       "      <td>94.3</td>\n",
       "      <td>23.2</td>\n",
       "      <td>10.5</td>\n",
       "      <td>1.38</td>\n",
       "      <td>8.3</td>\n",
       "      <td>461</td>\n",
       "      <td>Moderate</td>\n",
       "    </tr>\n",
       "  </tbody>\n",
       "</table>\n",
       "<p>5000 rows × 10 columns</p>\n",
       "</div>"
      ],
      "text/plain": [
       "      Temperature  Humidity  PM2.5   PM10   NO2   SO2    CO  \\\n",
       "0            29.8      59.1    5.2   17.9  18.9   9.2  1.72   \n",
       "1            28.3      75.6    2.3   12.2  30.8   9.7  1.64   \n",
       "2            23.1      74.7   26.7   33.8  24.4  12.6  1.63   \n",
       "3            27.1      39.1    6.1    6.3  13.5   5.3  1.15   \n",
       "4            26.5      70.7    6.9   16.0  21.9   5.6  1.01   \n",
       "...           ...       ...    ...    ...   ...   ...   ...   \n",
       "4995         40.6      74.1  116.0  126.7  45.5  25.7  2.11   \n",
       "4996         28.1      96.9    6.9   25.0  25.3  10.8  1.54   \n",
       "4997         25.9      78.2   14.2   22.1  34.8   7.8  1.63   \n",
       "4998         25.3      44.4   21.4   29.0  23.7   5.7  0.89   \n",
       "4999         24.1      77.9   81.7   94.3  23.2  10.5  1.38   \n",
       "\n",
       "      Proximity_to_Industrial_Areas  Population_Density Air Quality  \n",
       "0                               6.3                 319    Moderate  \n",
       "1                               6.0                 611    Moderate  \n",
       "2                               5.2                 619    Moderate  \n",
       "3                              11.1                 551        Good  \n",
       "4                              12.7                 303        Good  \n",
       "...                             ...                 ...         ...  \n",
       "4995                            2.8                 765   Hazardous  \n",
       "4996                            5.7                 709    Moderate  \n",
       "4997                            9.6                 379    Moderate  \n",
       "4998                           11.6                 241        Good  \n",
       "4999                            8.3                 461    Moderate  \n",
       "\n",
       "[5000 rows x 10 columns]"
      ]
     },
     "execution_count": 4,
     "metadata": {},
     "output_type": "execute_result"
    }
   ],
   "source": [
    "data = pd.read_csv('pollution_dataset.csv')\n",
    "data"
   ]
  },
  {
   "cell_type": "code",
   "execution_count": 5,
   "metadata": {},
   "outputs": [],
   "source": [
    "le = LabelEncoder()\n",
    "data['Air Quality'] = le.fit_transform(data['Air Quality'])"
   ]
  },
  {
   "cell_type": "code",
   "execution_count": 6,
   "metadata": {},
   "outputs": [
    {
     "data": {
      "text/html": [
       "<div>\n",
       "<style scoped>\n",
       "    .dataframe tbody tr th:only-of-type {\n",
       "        vertical-align: middle;\n",
       "    }\n",
       "\n",
       "    .dataframe tbody tr th {\n",
       "        vertical-align: top;\n",
       "    }\n",
       "\n",
       "    .dataframe thead th {\n",
       "        text-align: right;\n",
       "    }\n",
       "</style>\n",
       "<table border=\"1\" class=\"dataframe\">\n",
       "  <thead>\n",
       "    <tr style=\"text-align: right;\">\n",
       "      <th></th>\n",
       "      <th>Temperature</th>\n",
       "      <th>Humidity</th>\n",
       "      <th>PM2.5</th>\n",
       "      <th>PM10</th>\n",
       "      <th>NO2</th>\n",
       "      <th>SO2</th>\n",
       "      <th>CO</th>\n",
       "      <th>Proximity_to_Industrial_Areas</th>\n",
       "      <th>Population_Density</th>\n",
       "      <th>Air Quality</th>\n",
       "    </tr>\n",
       "  </thead>\n",
       "  <tbody>\n",
       "    <tr>\n",
       "      <th>0</th>\n",
       "      <td>29.8</td>\n",
       "      <td>59.1</td>\n",
       "      <td>5.2</td>\n",
       "      <td>17.9</td>\n",
       "      <td>18.9</td>\n",
       "      <td>9.2</td>\n",
       "      <td>1.72</td>\n",
       "      <td>6.3</td>\n",
       "      <td>319</td>\n",
       "      <td>2</td>\n",
       "    </tr>\n",
       "    <tr>\n",
       "      <th>1</th>\n",
       "      <td>28.3</td>\n",
       "      <td>75.6</td>\n",
       "      <td>2.3</td>\n",
       "      <td>12.2</td>\n",
       "      <td>30.8</td>\n",
       "      <td>9.7</td>\n",
       "      <td>1.64</td>\n",
       "      <td>6.0</td>\n",
       "      <td>611</td>\n",
       "      <td>2</td>\n",
       "    </tr>\n",
       "    <tr>\n",
       "      <th>2</th>\n",
       "      <td>23.1</td>\n",
       "      <td>74.7</td>\n",
       "      <td>26.7</td>\n",
       "      <td>33.8</td>\n",
       "      <td>24.4</td>\n",
       "      <td>12.6</td>\n",
       "      <td>1.63</td>\n",
       "      <td>5.2</td>\n",
       "      <td>619</td>\n",
       "      <td>2</td>\n",
       "    </tr>\n",
       "    <tr>\n",
       "      <th>3</th>\n",
       "      <td>27.1</td>\n",
       "      <td>39.1</td>\n",
       "      <td>6.1</td>\n",
       "      <td>6.3</td>\n",
       "      <td>13.5</td>\n",
       "      <td>5.3</td>\n",
       "      <td>1.15</td>\n",
       "      <td>11.1</td>\n",
       "      <td>551</td>\n",
       "      <td>0</td>\n",
       "    </tr>\n",
       "    <tr>\n",
       "      <th>4</th>\n",
       "      <td>26.5</td>\n",
       "      <td>70.7</td>\n",
       "      <td>6.9</td>\n",
       "      <td>16.0</td>\n",
       "      <td>21.9</td>\n",
       "      <td>5.6</td>\n",
       "      <td>1.01</td>\n",
       "      <td>12.7</td>\n",
       "      <td>303</td>\n",
       "      <td>0</td>\n",
       "    </tr>\n",
       "    <tr>\n",
       "      <th>...</th>\n",
       "      <td>...</td>\n",
       "      <td>...</td>\n",
       "      <td>...</td>\n",
       "      <td>...</td>\n",
       "      <td>...</td>\n",
       "      <td>...</td>\n",
       "      <td>...</td>\n",
       "      <td>...</td>\n",
       "      <td>...</td>\n",
       "      <td>...</td>\n",
       "    </tr>\n",
       "    <tr>\n",
       "      <th>4995</th>\n",
       "      <td>40.6</td>\n",
       "      <td>74.1</td>\n",
       "      <td>116.0</td>\n",
       "      <td>126.7</td>\n",
       "      <td>45.5</td>\n",
       "      <td>25.7</td>\n",
       "      <td>2.11</td>\n",
       "      <td>2.8</td>\n",
       "      <td>765</td>\n",
       "      <td>1</td>\n",
       "    </tr>\n",
       "    <tr>\n",
       "      <th>4996</th>\n",
       "      <td>28.1</td>\n",
       "      <td>96.9</td>\n",
       "      <td>6.9</td>\n",
       "      <td>25.0</td>\n",
       "      <td>25.3</td>\n",
       "      <td>10.8</td>\n",
       "      <td>1.54</td>\n",
       "      <td>5.7</td>\n",
       "      <td>709</td>\n",
       "      <td>2</td>\n",
       "    </tr>\n",
       "    <tr>\n",
       "      <th>4997</th>\n",
       "      <td>25.9</td>\n",
       "      <td>78.2</td>\n",
       "      <td>14.2</td>\n",
       "      <td>22.1</td>\n",
       "      <td>34.8</td>\n",
       "      <td>7.8</td>\n",
       "      <td>1.63</td>\n",
       "      <td>9.6</td>\n",
       "      <td>379</td>\n",
       "      <td>2</td>\n",
       "    </tr>\n",
       "    <tr>\n",
       "      <th>4998</th>\n",
       "      <td>25.3</td>\n",
       "      <td>44.4</td>\n",
       "      <td>21.4</td>\n",
       "      <td>29.0</td>\n",
       "      <td>23.7</td>\n",
       "      <td>5.7</td>\n",
       "      <td>0.89</td>\n",
       "      <td>11.6</td>\n",
       "      <td>241</td>\n",
       "      <td>0</td>\n",
       "    </tr>\n",
       "    <tr>\n",
       "      <th>4999</th>\n",
       "      <td>24.1</td>\n",
       "      <td>77.9</td>\n",
       "      <td>81.7</td>\n",
       "      <td>94.3</td>\n",
       "      <td>23.2</td>\n",
       "      <td>10.5</td>\n",
       "      <td>1.38</td>\n",
       "      <td>8.3</td>\n",
       "      <td>461</td>\n",
       "      <td>2</td>\n",
       "    </tr>\n",
       "  </tbody>\n",
       "</table>\n",
       "<p>5000 rows × 10 columns</p>\n",
       "</div>"
      ],
      "text/plain": [
       "      Temperature  Humidity  PM2.5   PM10   NO2   SO2    CO  \\\n",
       "0            29.8      59.1    5.2   17.9  18.9   9.2  1.72   \n",
       "1            28.3      75.6    2.3   12.2  30.8   9.7  1.64   \n",
       "2            23.1      74.7   26.7   33.8  24.4  12.6  1.63   \n",
       "3            27.1      39.1    6.1    6.3  13.5   5.3  1.15   \n",
       "4            26.5      70.7    6.9   16.0  21.9   5.6  1.01   \n",
       "...           ...       ...    ...    ...   ...   ...   ...   \n",
       "4995         40.6      74.1  116.0  126.7  45.5  25.7  2.11   \n",
       "4996         28.1      96.9    6.9   25.0  25.3  10.8  1.54   \n",
       "4997         25.9      78.2   14.2   22.1  34.8   7.8  1.63   \n",
       "4998         25.3      44.4   21.4   29.0  23.7   5.7  0.89   \n",
       "4999         24.1      77.9   81.7   94.3  23.2  10.5  1.38   \n",
       "\n",
       "      Proximity_to_Industrial_Areas  Population_Density  Air Quality  \n",
       "0                               6.3                 319            2  \n",
       "1                               6.0                 611            2  \n",
       "2                               5.2                 619            2  \n",
       "3                              11.1                 551            0  \n",
       "4                              12.7                 303            0  \n",
       "...                             ...                 ...          ...  \n",
       "4995                            2.8                 765            1  \n",
       "4996                            5.7                 709            2  \n",
       "4997                            9.6                 379            2  \n",
       "4998                           11.6                 241            0  \n",
       "4999                            8.3                 461            2  \n",
       "\n",
       "[5000 rows x 10 columns]"
      ]
     },
     "execution_count": 6,
     "metadata": {},
     "output_type": "execute_result"
    }
   ],
   "source": [
    "data"
   ]
  },
  {
   "cell_type": "code",
   "execution_count": 7,
   "metadata": {},
   "outputs": [],
   "source": [
    "target = 'Air Quality'\n",
    "features = data.drop(target, axis=1)\n",
    "target = data[target]"
   ]
  },
  {
   "cell_type": "code",
   "execution_count": 8,
   "metadata": {},
   "outputs": [],
   "source": [
    "scaler = MinMaxScaler()\n",
    "scaled_features = scaler.fit_transform(features)"
   ]
  },
  {
   "cell_type": "code",
   "execution_count": 9,
   "metadata": {},
   "outputs": [
    {
     "data": {
      "text/plain": [
       "array([[0.36283186, 0.25081433, 0.01762712, ..., 0.3485342 , 0.16309013,\n",
       "        0.17035111],\n",
       "       [0.32964602, 0.42996743, 0.00779661, ..., 0.32247557, 0.15021459,\n",
       "        0.55006502],\n",
       "       [0.21460177, 0.42019544, 0.09050847, ..., 0.31921824, 0.11587983,\n",
       "        0.56046814],\n",
       "       ...,\n",
       "       [0.27654867, 0.45819761, 0.04813559, ..., 0.31921824, 0.30472103,\n",
       "        0.24837451],\n",
       "       [0.26327434, 0.09120521, 0.07254237, ..., 0.0781759 , 0.39055794,\n",
       "        0.06892068],\n",
       "       [0.23672566, 0.45494028, 0.27694915, ..., 0.23778502, 0.24892704,\n",
       "        0.3550065 ]])"
      ]
     },
     "execution_count": 9,
     "metadata": {},
     "output_type": "execute_result"
    }
   ],
   "source": [
    "scaled_features"
   ]
  },
  {
   "cell_type": "code",
   "execution_count": 10,
   "metadata": {},
   "outputs": [],
   "source": [
    "X_train, X_test, Y_train, Y_test = train_test_split(scaled_features, target, test_size=0.2, random_state=42)"
   ]
  },
  {
   "cell_type": "code",
   "execution_count": 11,
   "metadata": {},
   "outputs": [],
   "source": [
    "input_shape = scaled_features.shape[1]"
   ]
  },
  {
   "cell_type": "code",
   "execution_count": 12,
   "metadata": {},
   "outputs": [
    {
     "data": {
      "text/plain": [
       "4"
      ]
     },
     "execution_count": 12,
     "metadata": {},
     "output_type": "execute_result"
    }
   ],
   "source": [
    "num_classes = len(le.classes_)\n",
    "num_classes"
   ]
  },
  {
   "cell_type": "code",
   "execution_count": 13,
   "metadata": {},
   "outputs": [
    {
     "ename": "NameError",
     "evalue": "name 'Sequential' is not defined",
     "output_type": "error",
     "traceback": [
      "\u001b[1;31m---------------------------------------------------------------------------\u001b[0m",
      "\u001b[1;31mNameError\u001b[0m                                 Traceback (most recent call last)",
      "Cell \u001b[1;32mIn[13], line 1\u001b[0m\n\u001b[1;32m----> 1\u001b[0m model_1 \u001b[38;5;241m=\u001b[39m Sequential([\n\u001b[0;32m      2\u001b[0m     Input(shape\u001b[38;5;241m=\u001b[39m(input_shape,)),\n\u001b[0;32m      3\u001b[0m     Dense(\u001b[38;5;241m64\u001b[39m, activation\u001b[38;5;241m=\u001b[39m\u001b[38;5;124m'\u001b[39m\u001b[38;5;124mrelu\u001b[39m\u001b[38;5;124m'\u001b[39m, kernel_initializer\u001b[38;5;241m=\u001b[39m\u001b[38;5;124m'\u001b[39m\u001b[38;5;124muniform\u001b[39m\u001b[38;5;124m'\u001b[39m),\n\u001b[0;32m      4\u001b[0m     Dense(\u001b[38;5;241m16\u001b[39m, activation\u001b[38;5;241m=\u001b[39m\u001b[38;5;124m'\u001b[39m\u001b[38;5;124mrelu\u001b[39m\u001b[38;5;124m'\u001b[39m, kernel_initializer\u001b[38;5;241m=\u001b[39m\u001b[38;5;124m'\u001b[39m\u001b[38;5;124muniform\u001b[39m\u001b[38;5;124m'\u001b[39m),\n\u001b[0;32m      5\u001b[0m     Dense(num_classes, activation\u001b[38;5;241m=\u001b[39m\u001b[38;5;124m'\u001b[39m\u001b[38;5;124msoftmax\u001b[39m\u001b[38;5;124m'\u001b[39m, kernel_initializer\u001b[38;5;241m=\u001b[39m\u001b[38;5;124m'\u001b[39m\u001b[38;5;124muniform\u001b[39m\u001b[38;5;124m'\u001b[39m)\n\u001b[0;32m      6\u001b[0m ])\n\u001b[0;32m      7\u001b[0m model_1\u001b[38;5;241m.\u001b[39mcompile(optimizer\u001b[38;5;241m=\u001b[39mAdam(learning_rate\u001b[38;5;241m=\u001b[39m\u001b[38;5;241m0.001\u001b[39m), loss\u001b[38;5;241m=\u001b[39m\u001b[38;5;124m'\u001b[39m\u001b[38;5;124msparse_categorical_crossentropy\u001b[39m\u001b[38;5;124m'\u001b[39m, metrics\u001b[38;5;241m=\u001b[39m[\u001b[38;5;124m'\u001b[39m\u001b[38;5;124maccuracy\u001b[39m\u001b[38;5;124m'\u001b[39m])\n",
      "\u001b[1;31mNameError\u001b[0m: name 'Sequential' is not defined"
     ]
    }
   ],
   "source": [
    "model_1 = Sequential([\n",
    "    Input(shape=(input_shape,)),\n",
    "    Dense(64, activation='relu', kernel_initializer='uniform'),\n",
    "    Dense(16, activation='relu', kernel_initializer='uniform'),\n",
    "    Dense(num_classes, activation='softmax', kernel_initializer='uniform')\n",
    "])\n",
    "model_1.compile(optimizer=Adam(learning_rate=0.001), loss='sparse_categorical_crossentropy', metrics=['accuracy'])"
   ]
  },
  {
   "cell_type": "code",
   "execution_count": null,
   "metadata": {},
   "outputs": [],
   "source": [
    "model_1.summary()"
   ]
  },
  {
   "cell_type": "code",
   "execution_count": null,
   "metadata": {},
   "outputs": [],
   "source": [
    "model_2 = Sequential([\n",
    "    Input(shape=(input_shape,)),\n",
    "    Dense(64, activation='tanh'),\n",
    "    Dense(32, activation='tanh'),\n",
    "    Dropout(0.3),\n",
    "    Dense(16, activation='tanh'),\n",
    "    Dense(num_classes, activation='softmax')\n",
    "])\n",
    "model_2.compile(optimizer=Adam(learning_rate=0.001), loss='sparse_categorical_crossentropy', metrics=['accuracy'])"
   ]
  },
  {
   "cell_type": "code",
   "execution_count": null,
   "metadata": {},
   "outputs": [],
   "source": [
    "model_2.summary()"
   ]
  },
  {
   "cell_type": "code",
   "execution_count": null,
   "metadata": {},
   "outputs": [],
   "source": [
    "model_3 = Sequential([\n",
    "    Input(shape=(input_shape,)),\n",
    "    Dense(128),\n",
    "    LeakyReLU(alpha=0.1),\n",
    "    Dense(64),\n",
    "    LeakyReLU(alpha=0.1),\n",
    "    Dense(32),\n",
    "    LeakyReLU(alpha=0.1),\n",
    "    Dense(num_classes, activation='softmax')\n",
    "])\n",
    "model_3.compile(optimizer=Adam(learning_rate=0.001), loss='sparse_categorical_crossentropy', metrics=['accuracy'])"
   ]
  },
  {
   "cell_type": "code",
   "execution_count": null,
   "metadata": {},
   "outputs": [],
   "source": [
    "model_3.summary()"
   ]
  },
  {
   "cell_type": "code",
   "execution_count": null,
   "metadata": {},
   "outputs": [],
   "source": [
    "history_1 = model_1.fit(X_train, Y_train, validation_split=0.1, epochs=64, batch_size=32)"
   ]
  },
  {
   "cell_type": "code",
   "execution_count": null,
   "metadata": {},
   "outputs": [],
   "source": [
    "history_2 = model_2.fit(X_train, Y_train, validation_split=0.1, epochs=64, batch_size=32)"
   ]
  },
  {
   "cell_type": "code",
   "execution_count": null,
   "metadata": {},
   "outputs": [],
   "source": [
    "history_3 = model_3.fit(X_train, Y_train, validation_split=0.1, epochs=64, batch_size=32)"
   ]
  },
  {
   "cell_type": "code",
   "execution_count": null,
   "metadata": {},
   "outputs": [],
   "source": [
    "y_pred_1 = model_1.predict(X_test).argmax(axis=1)\n",
    "y_pred_2 = model_2.predict(X_test).argmax(axis=1)\n",
    "y_pred_3 = model_3.predict(X_test).argmax(axis=1)"
   ]
  },
  {
   "cell_type": "code",
   "execution_count": null,
   "metadata": {},
   "outputs": [],
   "source": [
    "print(classification_report(Y_test, y_pred_1))"
   ]
  },
  {
   "cell_type": "code",
   "execution_count": null,
   "metadata": {},
   "outputs": [],
   "source": [
    "print(classification_report(Y_test, y_pred_2))"
   ]
  },
  {
   "cell_type": "code",
   "execution_count": null,
   "metadata": {},
   "outputs": [],
   "source": [
    "print(classification_report(Y_test, y_pred_3))"
   ]
  },
  {
   "cell_type": "markdown",
   "metadata": {},
   "source": [
    "- Model 1: Plitka mrezha so ReLU aktivacija\n",
    "- Model 2: Podlaboka mrezha so Tanh aktivacija\n",
    "- Model 3: Poshiroka mrezha so LeakyReLU aktivacija"
   ]
  },
  {
   "cell_type": "markdown",
   "metadata": {},
   "source": [
    "Najdobri performansi dava Model 3 poradi accuracyh od 95%, kako i najbalansirano hendlanje so site 4 kategorii na kvalitet na vozduh"
   ]
  },
  {
   "cell_type": "code",
   "execution_count": null,
   "metadata": {},
   "outputs": [],
   "source": []
  },
  {
   "cell_type": "code",
   "execution_count": null,
   "metadata": {},
   "outputs": [],
   "source": []
  },
  {
   "cell_type": "code",
   "execution_count": null,
   "metadata": {},
   "outputs": [],
   "source": []
  },
  {
   "cell_type": "code",
   "execution_count": null,
   "metadata": {},
   "outputs": [],
   "source": []
  },
  {
   "cell_type": "code",
   "execution_count": null,
   "metadata": {},
   "outputs": [],
   "source": []
  },
  {
   "cell_type": "code",
   "execution_count": null,
   "metadata": {},
   "outputs": [],
   "source": []
  },
  {
   "cell_type": "code",
   "execution_count": null,
   "metadata": {},
   "outputs": [],
   "source": []
  },
  {
   "cell_type": "code",
   "execution_count": null,
   "metadata": {},
   "outputs": [],
   "source": []
  },
  {
   "cell_type": "code",
   "execution_count": null,
   "metadata": {},
   "outputs": [],
   "source": []
  }
 ],
 "metadata": {
  "colab": {
   "provenance": []
  },
  "kernelspec": {
   "display_name": "Python 3 (ipykernel)",
   "language": "python",
   "name": "python3"
  },
  "language_info": {
   "codemirror_mode": {
    "name": "ipython",
    "version": 3
   },
   "file_extension": ".py",
   "mimetype": "text/x-python",
   "name": "python",
   "nbconvert_exporter": "python",
   "pygments_lexer": "ipython3",
   "version": "3.12.7"
  }
 },
 "nbformat": 4,
 "nbformat_minor": 4
}
